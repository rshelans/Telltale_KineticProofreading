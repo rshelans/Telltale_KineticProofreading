{
 "cells": [
  {
   "cell_type": "code",
   "execution_count": null,
   "metadata": {},
   "outputs": [],
   "source": [
    "import sys \n",
    "sys.path.append(r'G:\\My Drive\\src\\Trace')\n",
    "import pims\n",
    "import tracetools\n",
    "from matplotlib import pyplot as plt\n",
    "%matplotlib inline\n",
    "import scipy\n",
    "import os.path\n",
    "import imp\n",
    "import glob\n",
    "tracetools = imp.reload(tracetools)\n",
    "import pandas\n",
    "\n",
    "import itertools\n"
   ]
  },
  {
   "cell_type": "code",
   "execution_count": null,
   "metadata": {},
   "outputs": [],
   "source": [
    "basename   =            'yRS102_20191014_EX312_2'\n",
    "directory  =            \"D:\\\\ex312\\\\20191014\\\\yRS102_20191014_EX312_2\\\\\"\n",
    "movie_url  =            directory + basename + \"_BS_BC_SLICED_MAX.tif\"\n",
    "loc_url    =            directory + basename + \"_discover.loc\"\n",
    "\n",
    "\n",
    "cell_paths =  glob.glob(directory + basename + \"_*.zip\")\n",
    "\n",
    "print(basename,directory,movie_url,loc_url,sep=\"\\n\")"
   ]
  },
  {
   "cell_type": "code",
   "execution_count": null,
   "metadata": {},
   "outputs": [],
   "source": [
    "##Creating the loc file  for a  tif\n",
    "with pims.open(movie_url) as tiff:\n",
    "    loc = scipy.array([puncta for puncta in tracetools.getAllPunctaFromStack(tiff,psfPx = 1.5, window_radius = 40)])\n",
    "scipy.savetxt(os.path.join(directory,loc_url) ,loc,delimiter='\\t',fmt=['%d','%d','%f','%d'])"
   ]
  },
  {
   "cell_type": "code",
   "execution_count": null,
   "metadata": {},
   "outputs": [],
   "source": [
    "loc = scipy.loadtxt(os.path.join(directory,loc_url),delimiter='\\t',converters={0:int,1:int,2:float,3:int})"
   ]
  },
  {
   "cell_type": "code",
   "execution_count": null,
   "metadata": {},
   "outputs": [],
   "source": [
    "cell_paths =  glob.glob(directory + basename + \"_*.zip\")"
   ]
  },
  {
   "cell_type": "code",
   "execution_count": null,
   "metadata": {},
   "outputs": [],
   "source": [
    "import read_roi\n",
    "tracks = []\n",
    "for path in cell_paths:\n",
    "    print(path)\n",
    "    roi_path     = os.path.join(directory,path)\n",
    "    cell_number  = os.path.basename(roi_path).split('.')[0].split('_')[-1]\n",
    "    fname        = os.path.basename(movie_url).split('.')[0]+\"_\"+str(cell_number)+'.trk'\n",
    "    track_path   = os.path.join(os.path.dirname(roi_path),fname     )\n",
    "    rois         = read_roi.read_roi_zip(roi_path)\n",
    "    rough_track  = tracetools.trackFromCellKeyFrames(rois,loc,0)\n",
    "    tracks.append([rough_track,track_path])\n",
    "tracks, paths = zip(*tracks)"
   ]
  },
  {
   "cell_type": "code",
   "execution_count": null,
   "metadata": {},
   "outputs": [],
   "source": [
    "sloc = scipy.array(sorted(tracetools.mergeTracks(tracks), key = lambda x:x[3]))\n",
    "with pims.open(movie_url) as tiff:\n",
    "    nloc = scipy.array(list(tracetools.reAnalyzePuncta(tiff, sloc)))\n",
    "tracks = scipy.array([nloc[nloc[:,4]==i] for i in sorted(list(set(nloc[:,4])))])"
   ]
  },
  {
   "cell_type": "code",
   "execution_count": null,
   "metadata": {},
   "outputs": [],
   "source": [
    "print(scipy.array(cell_paths)[[any(scipy.isnan(track[:,2])) for track in tracks]])\n",
    "print(scipy.array([len(track) for track in tracks]))\n"
   ]
  },
  {
   "cell_type": "code",
   "execution_count": null,
   "metadata": {
    "scrolled": false
   },
   "outputs": [],
   "source": [
    "for rough_track, path in zip(tracks,paths):\n",
    "    print(path)\n",
    "    #plotting  the track\n",
    "    plt.figure(figsize=(15,5))\n",
    "    #plt.plot(rough_track[:,3], scipy.signal.medfilt(rough_track[:,2],11))\n",
    "    plt.plot(rough_track[:,3], rough_track[:,2])\n",
    "    plt.ylim([0,scipy.amax(tracks.flatten())])\n",
    "    plt.figure(figsize=(1,1))\n",
    "    plt.plot(rough_track[:,0],rough_track[:,1])\n",
    "\n",
    "fig             = plt.figure(figsize=(10,5),dpi=300,)\n",
    "main_ax         = fig.add_axes([1,1,1,1])\n",
    "main_ax.matshow([scipy.signal.medfilt(track[:,2],11) for track in tracks],aspect='auto')\n",
    "#main_ax.matshow(scipy.array([track[:,2] for track in tracks]),aspect='auto')"
   ]
  },
  {
   "cell_type": "code",
   "execution_count": null,
   "metadata": {},
   "outputs": [],
   "source": []
  },
  {
   "cell_type": "code",
   "execution_count": null,
   "metadata": {},
   "outputs": [],
   "source": [
    "for track,path in zip(tracks,paths):\n",
    "    scipy.savetxt(path, track, delimiter='\\t',fmt=['%d','%d','%f','%d','%d'])"
   ]
  },
  {
   "cell_type": "code",
   "execution_count": null,
   "metadata": {},
   "outputs": [],
   "source": [
    "other_url  =  movie_url.replace(\"BS_BC_\",\"BS_\")\n",
    "sloc = scipy.array(sorted(tracetools.mergeTracks(tracks), key = lambda x:x[3]))\n",
    "with pims.open(other_url) as tiff:\n",
    "    nloc = scipy.array(list(tracetools.reAnalyzePuncta(tiff, sloc)))\n",
    "tracks = scipy.array([nloc[nloc[:,4]==i] for i in sorted(list(set(nloc[:,4])))])\n",
    "for track,path in zip(tracks,[path.replace(\"BS_BC_\",\"\") for path in paths]):\n",
    "    scipy.savetxt(path, track, delimiter='\\t',fmt=['%d','%d','%f','%d','%d'])"
   ]
  },
  {
   "cell_type": "code",
   "execution_count": null,
   "metadata": {
    "scrolled": false
   },
   "outputs": [],
   "source": [
    "for rough_track in tracks:\n",
    "    #plotting  the track\n",
    "    plt.figure(figsize=(15,5))\n",
    "    #plt.plot(rough_track[:,3], scipy.signal.medfilt(rough_track[:,2],11))\n",
    "    plt.plot(rough_track[:,3], rough_track[:,2])\n",
    "    plt.ylim([0,scipy.amax(tracks)])\n",
    "    plt.figure(figsize=(1,1))\n",
    "    plt.plot(rough_track[:,0],rough_track[:,1])\n",
    "fig             = plt.figure(figsize=(10,5),dpi=300,)\n",
    "main_ax         = fig.add_axes([1,1,1,1])\n",
    "main_ax.matshow([scipy.signal.medfilt(track[:,2],11) for track in tracks],aspect='auto')\n",
    "#main_ax.matshow(scipy.array([track[:,2] for track in tracks]),aspect='auto')"
   ]
  },
  {
   "cell_type": "code",
   "execution_count": null,
   "metadata": {},
   "outputs": [],
   "source": [
    "other_url  =  movie_url.replace(\"MAX\",\"SUM\")\n",
    "sloc = scipy.array(sorted(tracetools.mergeTracks(tracks), key = lambda x:x[3]))\n",
    "with pims.open(other_url) as tiff:\n",
    "    nloc = scipy.array(list(tracetools.reAnalyzePuncta(tiff, sloc)))\n",
    "tracks = scipy.array([nloc[nloc[:,4]==i] for i in sorted(list(set(nloc[:,4])))])\n",
    "for track,path in zip(tracks,[path.replace(\"MAX\",\"SUM\") for path in paths]):\n",
    "    scipy.savetxt(path, track, delimiter='\\t',fmt=['%d','%d','%f','%d','%d'])"
   ]
  },
  {
   "cell_type": "code",
   "execution_count": null,
   "metadata": {
    "scrolled": false
   },
   "outputs": [],
   "source": [
    "for rough_track in tracks:\n",
    "    #plotting  the track\n",
    "    plt.figure(figsize=(15,5))\n",
    "    #plt.plot(rough_track[:,3], scipy.signal.medfilt(rough_track[:,2],11))\n",
    "    plt.plot(rough_track[:,3], rough_track[:,2])\n",
    "    plt.ylim([0,scipy.amax(tracks)])\n",
    "    plt.figure(figsize=(1,1))\n",
    "    plt.plot(rough_track[:,0],rough_track[:,1])\n",
    "fig             = plt.figure(figsize=(10,5),dpi=300,)\n",
    "main_ax         = fig.add_axes([1,1,1,1])\n",
    "main_ax.matshow([scipy.signal.medfilt(track[:,2],11) for track in tracks],aspect='auto')\n",
    "#main_ax.matshow(scipy.array([track[:,2] for track in tracks]),aspect='auto')"
   ]
  },
  {
   "cell_type": "code",
   "execution_count": null,
   "metadata": {},
   "outputs": [],
   "source": [
    "tiff.close()"
   ]
  },
  {
   "cell_type": "code",
   "execution_count": null,
   "metadata": {},
   "outputs": [],
   "source": []
  },
  {
   "cell_type": "code",
   "execution_count": null,
   "metadata": {},
   "outputs": [],
   "source": []
  },
  {
   "cell_type": "code",
   "execution_count": null,
   "metadata": {},
   "outputs": [],
   "source": []
  }
 ],
 "metadata": {
  "kernelspec": {
   "display_name": "Python 3",
   "language": "python",
   "name": "python3"
  },
  "language_info": {
   "codemirror_mode": {
    "name": "ipython",
    "version": 3
   },
   "file_extension": ".py",
   "mimetype": "text/x-python",
   "name": "python",
   "nbconvert_exporter": "python",
   "pygments_lexer": "ipython3",
   "version": "3.7.0"
  }
 },
 "nbformat": 4,
 "nbformat_minor": 2
}
